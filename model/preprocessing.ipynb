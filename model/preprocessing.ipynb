{
 "cells": [
  {
   "cell_type": "markdown",
   "metadata": {},
   "source": [
    "### This script defines routes for preprocessing data before analysis. It includes methods for reading data from CSV files and performing initial preprocessing steps.\n",
    "\n",
    "#### Usage:\n",
    "    This script is intended to be run as part of a Flask application. It provides routes for preprocessing data before analysis.\n",
    "\n",
    "#### Attributes:\n",
    "    app: Flask application instance.\n",
    "    preprocessing_routes: Blueprint containing routes for data preprocessing.\n"
   ]
  },
  {
   "cell_type": "code",
   "execution_count": 1,
   "metadata": {},
   "outputs": [],
   "source": [
    "# pip install flask\n",
    "# pip install numpy pandas matplotlib seaborn\n"
   ]
  },
  {
   "cell_type": "code",
   "execution_count": 2,
   "metadata": {},
   "outputs": [],
   "source": [
    "from flask import Blueprint\n",
    "import pandas as pd\n",
    "import matplotlib.pyplot as plt\n",
    "import seaborn as sns\n",
    "import warnings"
   ]
  },
  {
   "cell_type": "code",
   "execution_count": 3,
   "metadata": {},
   "outputs": [],
   "source": [
    "warnings.filterwarnings(\"ignore\")\n",
    "\n",
    "preprocessing_app = Blueprint(\"preprocessing\", __name__)\n",
    "\n",
    "data = None"
   ]
  },
  {
   "cell_type": "code",
   "execution_count": 4,
   "metadata": {},
   "outputs": [
    {
     "name": "stdout",
     "output_type": "stream",
     "text": [
      "   company_id                                            name  \\\n",
      "0     1145391                                         Goo.Com   \n",
      "1     8070755                                   Stichting GOO   \n",
      "2      939648                            Goo-Goo Express Wash   \n",
      "3     3651112                                       Black Goo   \n",
      "4     1895285                                Let's Goo Social   \n",
      "5     5953502                                 Goo Goo Gaa Gaa   \n",
      "6      107591                                            WATG   \n",
      "7      923128                                Goo Technologies   \n",
      "8      812843  Pwi-Di-Goo-Zing Ne-Yaa-Zhing Advisory Services   \n",
      "9     2888762                          Dembach Goo Informatik   \n",
      "\n",
      "                                        company_link  rating  review_count  \\\n",
      "0  https://www.glassdoor.com/Overview/Working-at-...     4.3             2   \n",
      "1  https://www.glassdoor.com/Overview/Working-at-...     0.0             0   \n",
      "2  https://www.glassdoor.com/Overview/Working-at-...     2.8            27   \n",
      "3  https://www.glassdoor.com/Overview/Working-at-...     3.6             7   \n",
      "4  https://www.glassdoor.com/Overview/Working-at-...     2.9             6   \n",
      "5  https://www.glassdoor.com/Overview/Working-at-...     3.0             1   \n",
      "6  https://www.glassdoor.com/Overview/Working-at-...     3.8           172   \n",
      "7  https://www.glassdoor.com/Overview/Working-at-...     4.5             2   \n",
      "8  https://www.glassdoor.com/Overview/Working-at-...     3.9             3   \n",
      "9  https://www.glassdoor.com/Overview/Working-at-...     4.4             2   \n",
      "\n",
      "   salary_count  job_count         headquarters_location  \\\n",
      "0             2          0  Trezzano sul Naviglio, Italy   \n",
      "1             0          5           Gemert, Netherlands   \n",
      "2            46          0               Chattanooga, GA   \n",
      "3            18          0         Tring, United Kingdom   \n",
      "4             7          6          Singapore, Singapore   \n",
      "5             5          0                Brookfield, WI   \n",
      "6           325         30                    Irvine, CA   \n",
      "7             4          0             Stockholm, Sweden   \n",
      "8             2          0          Fort Frances, Canada   \n",
      "9             3         14              Cologne, Germany   \n",
      "\n",
      "                                                logo          company_size  \\\n",
      "0  https://media.glassdoor.com/sql/1145391/goo-co...     1 to 50 Employees   \n",
      "1                                                NaN               Unknown   \n",
      "2  https://media.glassdoor.com/sql/939648/goo-goo...     1 to 50 Employees   \n",
      "3  https://media.glassdoor.com/sql/3651112/black-...     1 to 50 Employees   \n",
      "4  https://media.glassdoor.com/sql/1895285/let-s-...     1 to 50 Employees   \n",
      "5                                                NaN     1 to 50 Employees   \n",
      "6  https://media.glassdoor.com/sql/107591/watg-sq...  201 to 500 Employees   \n",
      "7                                                NaN     1 to 50 Employees   \n",
      "8                                                NaN  201 to 500 Employees   \n",
      "9  https://media.glassdoor.com/sql/2888762/dembac...     1 to 50 Employees   \n",
      "\n",
      "  company_size_category                                company_description  \\\n",
      "0                 SMALL  Goo.com Srl is a dynamic Italian Company. We a...   \n",
      "1               UNKNOWN                                                NaN   \n",
      "2                 SMALL                                                NaN   \n",
      "3                 SMALL                                                NaN   \n",
      "4                 SMALL                                                NaN   \n",
      "5                 SMALL                                                NaN   \n",
      "6                MEDIUM  From our dawning days in 1945 Honolulu, we hav...   \n",
      "7                 SMALL                                                NaN   \n",
      "8                MEDIUM                                                NaN   \n",
      "9                 SMALL                                                NaN   \n",
      "\n",
      "                                  industry  \n",
      "0  Enterprise Software & Network Solutions  \n",
      "1                                      NaN  \n",
      "2             Vehicle Repair & Maintenance  \n",
      "3                                      NaN  \n",
      "4           Advertising & Public Relations  \n",
      "5                                      NaN  \n",
      "6     Architectural & Engineering Services  \n",
      "7  Information Technology Support Services  \n",
      "8                State & Regional Agencies  \n",
      "9  Information Technology Support Services  \n"
     ]
    }
   ],
   "source": [
    "df = pd.read_csv(\"F:\\DataScience\\code\\Real-Time-Glassdoor-Data\\data\\glassdoor_company.csv\")\n",
    "print(df)"
   ]
  },
  {
   "cell_type": "code",
   "execution_count": 5,
   "metadata": {},
   "outputs": [
    {
     "name": "stdout",
     "output_type": "stream",
     "text": [
      "company_id               0\n",
      "name                     0\n",
      "company_link             0\n",
      "rating                   0\n",
      "review_count             0\n",
      "salary_count             0\n",
      "job_count                0\n",
      "headquarters_location    0\n",
      "logo                     4\n",
      "company_size             0\n",
      "company_size_category    0\n",
      "company_description      8\n",
      "industry                 3\n",
      "dtype: int64\n"
     ]
    }
   ],
   "source": [
    "missing = df.isnull().sum()\n",
    "\n",
    "print(missing)"
   ]
  },
  {
   "cell_type": "code",
   "execution_count": 6,
   "metadata": {},
   "outputs": [
    {
     "name": "stdout",
     "output_type": "stream",
     "text": [
      "\n",
      "Missing values after cleaning:\n",
      "company_id               0\n",
      "name                     0\n",
      "company_link             0\n",
      "rating                   0\n",
      "review_count             0\n",
      "salary_count             0\n",
      "job_count                0\n",
      "headquarters_location    0\n",
      "logo                     0\n",
      "company_size             0\n",
      "company_size_category    0\n",
      "company_description      0\n",
      "industry                 0\n",
      "dtype: int64\n"
     ]
    }
   ],
   "source": [
    "df.dropna(inplace=True)\n",
    "\n",
    "# Drop duplicate rows\n",
    "df.drop_duplicates(inplace=True)\n",
    "\n",
    "# Recalculate missing values after cleaning\n",
    "missing = df.isnull().sum()\n",
    "\n",
    "# Display the number of missing values after cleaning\n",
    "print(\"\\nMissing values after cleaning:\")\n",
    "print(missing)"
   ]
  },
  {
   "cell_type": "code",
   "execution_count": 7,
   "metadata": {},
   "outputs": [
    {
     "name": "stdout",
     "output_type": "stream",
     "text": [
      "company_id                 int64\n",
      "name                      object\n",
      "company_link              object\n",
      "rating                   float64\n",
      "review_count               int64\n",
      "salary_count               int64\n",
      "job_count                  int64\n",
      "headquarters_location     object\n",
      "logo                      object\n",
      "company_size              object\n",
      "company_size_category     object\n",
      "company_description       object\n",
      "industry                  object\n",
      "dtype: object\n"
     ]
    }
   ],
   "source": [
    "print(df.dtypes)"
   ]
  },
  {
   "cell_type": "code",
   "execution_count": 8,
   "metadata": {},
   "outputs": [
    {
     "name": "stdout",
     "output_type": "stream",
     "text": [
      "\n",
      "Data Types after updating:\n",
      "company_id                 int32\n",
      "name                      object\n",
      "company_link              object\n",
      "rating                   float32\n",
      "review_count               int32\n",
      "salary_count               int32\n",
      "job_count                  int32\n",
      "headquarters_location     object\n",
      "logo                      object\n",
      "company_size              object\n",
      "company_size_category     object\n",
      "company_description       object\n",
      "industry                  object\n",
      "dtype: object\n"
     ]
    }
   ],
   "source": [
    "# Update data types\n",
    "df['company_id'] = df['company_id'].astype('int32')   \n",
    "df['rating'] = df['rating'].astype('float32')  \n",
    "df['review_count'] = df['review_count'].astype('int32')\n",
    "df['salary_count'] = df['salary_count'].astype('int32')\n",
    "df['job_count'] = df['job_count'].astype('int32')\n",
    "\n",
    "# Display the updated DataFrame with new data types\n",
    "print(\"\\nData Types after updating:\")\n",
    "print(df.dtypes)"
   ]
  },
  {
   "cell_type": "markdown",
   "metadata": {},
   "source": [
    "### let's visualize review_count for each company"
   ]
  },
  {
   "cell_type": "code",
   "execution_count": 22,
   "metadata": {},
   "outputs": [
    {
     "data": {
      "image/png": "[encoded data removed]",
      "text/plain": [
       "<Figure size 1000x600 with 1 Axes>"
      ]
     },
     "metadata": {},
     "output_type": "display_data"
    }
   ],
   "source": [
    "# Create a bar plot\n",
    "plt.figure(figsize=(10, 6))\n",
    "plt.bar(df['name'], df['review_count'])\n",
    "plt.xlabel('Company Name')\n",
    "plt.ylabel('Review Count')\n",
    "plt.title('Review Count for Companies')\n",
    "plt.xticks(rotation=45)\n",
    "plt.tight_layout()\n",
    "plt.show()"
   ]
  },
  {
   "cell_type": "markdown",
   "metadata": {},
   "source": [
    "### let's visualize the distribution of rating"
   ]
  },
  {
   "cell_type": "code",
   "execution_count": 20,
   "metadata": {},
   "outputs": [
    {
     "data": {
      "image/png": "[encoded data removed]",
      "text/plain": [
       "<Figure size 800x600 with 1 Axes>"
      ]
     },
     "metadata": {},
     "output_type": "display_data"
    }
   ],
   "source": [
    "# Create a histogram using Seaborn\n",
    "plt.figure(figsize=(8, 6))\n",
    "sns.histplot(df['rating'], bins=5, kde=True)\n",
    "plt.xlabel('Rating')\n",
    "plt.ylabel('Frequency')\n",
    "plt.title('Distribution of Ratings')\n",
    "plt.grid(True)\n",
    "plt.tight_layout()\n",
    "plt.show()"
   ]
  }
 ],
 "metadata": {
  "kernelspec": {
   "display_name": "Python 3 (ipykernel)",
   "language": "python",
   "name": "python3"
  },
  "language_info": {
   "codemirror_mode": {
    "name": "ipython",
    "version": 3
   },
   "file_extension": ".py",
   "mimetype": "text/x-python",
   "name": "python",
   "nbconvert_exporter": "python",
   "pygments_lexer": "ipython3",
   "version": "3.12.1"
  }
 },
 "nbformat": 4,
 "nbformat_minor": 4
}
