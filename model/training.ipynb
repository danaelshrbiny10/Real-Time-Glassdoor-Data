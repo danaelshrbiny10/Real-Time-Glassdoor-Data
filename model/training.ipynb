{
 "cells": [
  {
   "cell_type": "code",
   "execution_count": 1,
   "metadata": {},
   "outputs": [],
   "source": [
    "import warnings\n",
    "import os\n",
    "import nbformat"
   ]
  },
  {
   "cell_type": "markdown",
   "metadata": {},
   "source": [
    "## Ignore Warning."
   ]
  },
  {
   "cell_type": "code",
   "execution_count": 3,
   "metadata": {},
   "outputs": [],
   "source": [
    "warnings.filterwarnings(\"ignore\")\n",
    "\n",
    "\n",
    "data = None"
   ]
  },
  {
   "cell_type": "markdown",
   "metadata": {},
   "source": [
    "## Setting Base Path for File Operations."
   ]
  },
  {
   "cell_type": "code",
   "execution_count": 5,
   "metadata": {},
   "outputs": [],
   "source": [
    "def set_base_path(base_path):\n",
    "    \"\"\"\n",
    "    Set the base path for file operations.\n",
    "\n",
    "    Parameters:\n",
    "    - base_path (str): The base path to set.\n",
    "\n",
    "    Returns:\n",
    "    - None\n",
    "    \"\"\"\n",
    "    global BASE_PATH\n",
    "    BASE_PATH = base_path\n",
    "\n",
    "def construct_file_path(relative_path):\n",
    "    \"\"\"\n",
    "    Construct the full file path using the base path and the relative path.\n",
    "\n",
    "    Parameters:\n",
    "    - relative_path (str): The relative path from the base path.\n",
    "\n",
    "    Returns:\n",
    "    - full_path (str): The full file path.\n",
    "    \"\"\"\n",
    "    if 'BASE_PATH' not in globals():\n",
    "        raise ValueError(\"Base path is not set. Call set_base_path() first.\")\n",
    "\n",
    "    full_path = os.path.join(BASE_PATH, relative_path)\n",
    "    return full_path\n",
    "\n",
    "# usage\n",
    "set_base_path(r\"F:\\DataScience\\code\\Real-Time-Glassdoor-Data\")"
   ]
  },
  {
   "cell_type": "code",
   "execution_count": 10,
   "metadata": {},
   "outputs": [],
   "source": [
    "def load_notebook(file_path):\n",
    "    \"\"\"\n",
    "    Load a Jupyter Notebook file (.ipynb).\n",
    "\n",
    "    Parameters:\n",
    "    - file_path (str): The path to the .ipynb file.\n",
    "\n",
    "    Returns:\n",
    "    - notebook (NotebookNode): The loaded notebook object.\n",
    "    \"\"\"\n",
    "    with open(file_path, \"r\", encoding=\"utf-8\") as file:\n",
    "        notebook = nbformat.read(file, as_version=4)\n",
    "    return notebook\n",
    "\n",
    "# usage\n",
    "file_path = construct_file_path(\"model/preprocessing.ipynb\")\n",
    "cnn_model_notebook = load_notebook(file_path)"
   ]
  }
 ],
 "metadata": {
  "kernelspec": {
   "display_name": "env",
   "language": "python",
   "name": "python3"
  },
  "language_info": {
   "codemirror_mode": {
    "name": "ipython",
    "version": 3
   },
   "file_extension": ".py",
   "mimetype": "text/x-python",
   "name": "python",
   "nbconvert_exporter": "python",
   "pygments_lexer": "ipython3",
   "version": "3.12.1"
  }
 },
 "nbformat": 4,
 "nbformat_minor": 2
}
